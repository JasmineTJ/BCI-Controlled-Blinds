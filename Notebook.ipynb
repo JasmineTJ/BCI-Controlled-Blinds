{
 "cells": [
  {
   "cell_type": "markdown",
   "id": "1f77ef52",
   "metadata": {},
   "source": [
    "## <span style=\"color:blue\"> Our Imports</span>"
   ]
  },
  {
   "cell_type": "code",
   "execution_count": null,
   "id": "93ff8e57",
   "metadata": {
    "id": "93ff8e57"
   },
   "outputs": [],
   "source": [
    "import numpy as np\n",
    "import pandas as pd\n",
    "\n",
    "from sklearn.model_selection import train_test_split\n",
    "from sklearn.preprocessing import StandardScaler\n",
    "\n",
    "import tensorflow as tf\n",
    "import serial\n",
    "import time\n"
   ]
  },
  {
   "cell_type": "markdown",
   "id": "cf9cd744",
   "metadata": {},
   "source": [
    "## <span style=\"color:blue\"> Importing Our dataset</span>"
   ]
  },
  {
   "cell_type": "code",
   "execution_count": null,
   "id": "db2b021d",
   "metadata": {
    "id": "db2b021d"
   },
   "outputs": [],
   "source": [
    "dfs = pd.read_csv(r'C:/Users/ashra/OneDrive/Documents/instrumentation projects/project2/Dataset/user_b.csv')"
   ]
  },
  {
   "cell_type": "code",
   "execution_count": null,
   "id": "6177afa5",
   "metadata": {
    "id": "6177afa5",
    "outputId": "74be07f2-9b5a-494c-b65c-b257ccce6ffe"
   },
   "outputs": [],
   "source": [
    "dfs\n",
    "dfs.shape[0]\n",
    "AmplitudeValues = dfs.iloc[:, 6]"
   ]
  },
  {
   "cell_type": "code",
   "execution_count": null,
   "id": "34aa6b29",
   "metadata": {},
   "outputs": [],
   "source": [
    "from PyQt5 import QtWidgets, uic\n",
    "import sys\n",
    "class MainApp(QtWidgets.QMainWindow):\n",
    "    def __init__(self):\n",
    "        super(MainApp, self).__init__()\n",
    "        uic.loadUi('main.ui', self)  # Load the UI file\n",
    "        self.time = np.linspace(0, 1, dfs.shape[0])  # Create 1000 evenly spaced time points\n",
    "        self.plotEEG()\n",
    "    def plotEEG(self):\n",
    "        self.widget_signal.plot(self.time, AmplitudeValues)\n",
    "\n",
    "if __name__ == \"__main__\":\n",
    "    app = QtWidgets.QApplication(sys.argv)\n",
    "    window = MainApp()\n",
    "    window.show()\n",
    "    sys.exit(app.exec_())\n"
   ]
  },
  {
   "cell_type": "markdown",
   "id": "9281c1b8",
   "metadata": {},
   "source": [
    "## <span style=\"color:blue\"> Shuffling Data</span>"
   ]
  },
  {
   "cell_type": "code",
   "execution_count": null,
   "id": "b5fde17a",
   "metadata": {
    "id": "b5fde17a"
   },
   "outputs": [],
   "source": [
    "data = dfs.sample(frac=1.0, random_state=123).reset_index(drop=True)"
   ]
  },
  {
   "cell_type": "code",
   "execution_count": null,
   "id": "05fdaa87",
   "metadata": {
    "id": "05fdaa87",
    "outputId": "fd672d25-8c76-412f-9223-f49041830882"
   },
   "outputs": [],
   "source": [
    "data"
   ]
  },
  {
   "cell_type": "markdown",
   "id": "d5539a38",
   "metadata": {},
   "source": [
    "## <span style=\"color:blue\"> Our Model</span>"
   ]
  },
  {
   "cell_type": "code",
   "execution_count": null,
   "id": "21909122",
   "metadata": {
    "id": "21909122"
   },
   "outputs": [],
   "source": [
    "def preprocess_inputs(df, target='Class'):\n",
    "    df = df.copy()\n",
    "\n",
    "    # Split df into X and y\n",
    "    y = df[target].copy()\n",
    "    X = df.drop(target, axis=1)\n",
    "\n",
    "    # Train-test split\n",
    "    X_train, X_test, y_train, y_test = train_test_split(X, y, train_size=0.7, random_state=123)\n",
    "\n",
    "    # Scale X with a standard scaler\n",
    "    scaler = StandardScaler()\n",
    "    scaler.fit(X_train)\n",
    "\n",
    "    X_train = pd.DataFrame(scaler.transform(X_train), columns=X.columns)\n",
    "    X_test = pd.DataFrame(scaler.transform(X_test), columns=X.columns)\n",
    "\n",
    "    return X_train, X_test, y_train, y_test, scaler  # Return scaler here"
   ]
  },
  {
   "cell_type": "code",
   "execution_count": null,
   "id": "2b6ad1e1",
   "metadata": {
    "id": "2b6ad1e1"
   },
   "outputs": [],
   "source": [
    "def build_model(num_classes=3):\n",
    "\n",
    "    inputs = tf.keras.Input(shape=(X_train.shape[1],))\n",
    "    x = tf.keras.layers.Dense(128, activation='relu')(inputs)\n",
    "    x = tf.keras.layers.Dense(128, activation='relu')(x)\n",
    "    outputs = tf.keras.layers.Dense(num_classes, activation='softmax')(x)\n",
    "\n",
    "    model = tf.keras.Model(inputs=inputs, outputs=outputs)\n",
    "\n",
    "    model.compile(\n",
    "        optimizer='adam',\n",
    "        loss='sparse_categorical_crossentropy',\n",
    "        metrics=['accuracy']\n",
    "    )\n",
    "\n",
    "    return model"
   ]
  },
  {
   "cell_type": "code",
   "execution_count": null,
   "id": "a86f60be",
   "metadata": {},
   "outputs": [],
   "source": []
  },
  {
   "cell_type": "code",
   "execution_count": null,
   "id": "52f1a3bc",
   "metadata": {
    "id": "52f1a3bc"
   },
   "outputs": [],
   "source": [
    "X_train, X_test, y_train, y_test, scaler = preprocess_inputs(data, target='Class')  # Get scaler here"
   ]
  },
  {
   "cell_type": "code",
   "execution_count": null,
   "id": "c8f15114",
   "metadata": {
    "id": "c8f15114",
    "outputId": "24679c65-2560-49c2-abd0-ae22938a4dce"
   },
   "outputs": [],
   "source": [
    "class_model = build_model(num_classes=3)\n",
    "\n",
    "class_history = class_model.fit(\n",
    "    X_train,\n",
    "    y_train,\n",
    "    validation_split=0.2,\n",
    "    batch_size=32,\n",
    "    epochs=50,\n",
    "    callbacks=[\n",
    "        tf.keras.callbacks.EarlyStopping(\n",
    "            monitor='val_loss',\n",
    "            patience=3,\n",
    "            restore_best_weights=True\n",
    "        )\n",
    "    ]\n",
    ")"
   ]
  },
  {
   "cell_type": "markdown",
   "id": "9c69508f",
   "metadata": {},
   "source": [
    "## <span style=\"color:blue\">Accuracy</span>"
   ]
  },
  {
   "cell_type": "code",
   "execution_count": null,
   "id": "2f7faf8b",
   "metadata": {
    "id": "2f7faf8b",
    "outputId": "bfedb237-b48c-4acf-b574-ab324cf2ca67"
   },
   "outputs": [],
   "source": [
    "class_acc = class_model.evaluate(X_test, y_test, verbose=0)[1]\n",
    "print(\"Test Accuracy (Class Model): {:.2f}%\".format(class_acc * 100))"
   ]
  },
  {
   "cell_type": "code",
   "execution_count": null,
   "id": "e445c0bb",
   "metadata": {
    "id": "e445c0bb"
   },
   "outputs": [],
   "source": [
    "# Load new data\n",
    "new_data = X_test"
   ]
  },
  {
   "cell_type": "code",
   "execution_count": null,
   "id": "af0f03de",
   "metadata": {
    "id": "af0f03de",
    "outputId": "3d193f12-8e30-476c-dda4-3556477ca628"
   },
   "outputs": [],
   "source": [
    "new_predictions = class_model.predict(new_data)\n",
    "\n",
    "predicted_classes = np.argmax(new_predictions, axis=1)\n",
    "\n",
    "predicted_classes_list = predicted_classes.tolist()\n"
   ]
  },
  {
   "cell_type": "code",
   "execution_count": null,
   "id": "15f8797e",
   "metadata": {},
   "outputs": [],
   "source": [
    "predicted_classes"
   ]
  },
  {
   "cell_type": "code",
   "execution_count": null,
   "id": "9a12aa79",
   "metadata": {
    "id": "9a12aa79",
    "outputId": "f517a741-5e02-4e12-9af7-a213bbb146fa"
   },
   "outputs": [],
   "source": [
    "predicted_classes_list"
   ]
  },
  {
   "cell_type": "code",
   "execution_count": null,
   "id": "58d3b79e",
   "metadata": {
    "id": "58d3b79e",
    "outputId": "a067e05e-5f74-4170-d763-a973b9bef1a2"
   },
   "outputs": [],
   "source": [
    "list(y_test)\n",
    "len(predicted_classes_list)"
   ]
  },
  {
   "cell_type": "markdown",
   "id": "928014a2",
   "metadata": {},
   "source": [
    "## <span style=\"color:blue\">Link With Arduino</span>"
   ]
  },
  {
   "cell_type": "code",
   "execution_count": null,
   "id": "8e809f7e",
   "metadata": {
    "id": "8e809f7e"
   },
   "outputs": [],
   "source": [
    "# !conda install -c anaconda pyserial -y"
   ]
  },
  {
   "cell_type": "code",
   "execution_count": null,
   "id": "f38cc68b",
   "metadata": {
    "id": "f38cc68b"
   },
   "outputs": [],
   "source": [
    "# Define the serial port and baud rate (adjust as needed)\n",
    "ser = serial.Serial('COM5', 9600)  # Change 'COM5' to the appropriate port name on your system\n",
    "\n",
    "# Your list containing values 0, 1, or 2\n",
    "# motor_commands = predicted_classes_list[:21]\n",
    "# motor_commands = predicted_classes_list\n",
    "motor_commands = [0,0,0,0,1,1,1,2,2,2]\n",
    "\n",
    "try:\n",
    "    for command in motor_commands:\n",
    "        # Send the command to the Arduino\n",
    "        ser.write(str(command).encode())\n",
    "        time.sleep(2)  # Adjust the delay as needed\n",
    "except KeyboardInterrupt:\n",
    "    pass\n",
    "\n",
    "ser.close()"
   ]
  },
  {
   "cell_type": "code",
   "execution_count": null,
   "id": "fa19e345",
   "metadata": {
    "id": "fa19e345",
    "outputId": "3b6e4ba5-e498-41ac-b700-48ff6829782d"
   },
   "outputs": [],
   "source": [
    "predicted_classes_list[:21]"
   ]
  },
  {
   "cell_type": "code",
   "execution_count": null,
   "id": "9ef87114",
   "metadata": {
    "id": "9ef87114"
   },
   "outputs": [],
   "source": []
  }
 ],
 "metadata": {
  "colab": {
   "provenance": []
  },
  "kernelspec": {
   "display_name": "Python 3 (ipykernel)",
   "language": "python",
   "name": "python3"
  },
  "language_info": {
   "codemirror_mode": {
    "name": "ipython",
    "version": 3
   },
   "file_extension": ".py",
   "mimetype": "text/x-python",
   "name": "python",
   "nbconvert_exporter": "python",
   "pygments_lexer": "ipython3",
   "version": "3.10.9"
  }
 },
 "nbformat": 4,
 "nbformat_minor": 5
}
